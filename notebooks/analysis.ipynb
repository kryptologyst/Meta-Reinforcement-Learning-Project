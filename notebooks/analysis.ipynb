{
  "cells": [
    {
      "cell_type": "markdown",
      "metadata": {},
      "source": [
        "# Meta-Reinforcement Learning Analysis\n",
        "\n",
        "This notebook provides interactive analysis and visualization of meta-RL experiments.\n",
        "\n",
        "## Features\n",
        "- Load and analyze training results\n",
        "- Compare different algorithms\n",
        "- Visualize learning curves\n",
        "- Interactive parameter exploration\n"
      ]
    }
  ],
  "metadata": {
    "language_info": {
      "name": "python"
    }
  },
  "nbformat": 4,
  "nbformat_minor": 2
}
